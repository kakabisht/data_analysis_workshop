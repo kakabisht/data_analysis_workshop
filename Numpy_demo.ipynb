{
 "cells": [
  {
   "cell_type": "code",
   "execution_count": 8,
   "metadata": {},
   "outputs": [
    {
     "name": "stdout",
     "output_type": "stream",
     "text": [
      "50.24\n",
      "25.12\n"
     ]
    }
   ],
   "source": [
    "# Area and Circumference of circle without module import\n",
    "\n",
    "#Area of the circle \n",
    "r = 4\n",
    "a = 3.14 * (r**2)\n",
    "print(a)\n",
    "\n",
    "#Circumference of the circle\n",
    "c = 2 * 3.14 * r\n",
    "print(c)"
   ]
  },
  {
   "cell_type": "code",
   "execution_count": 9,
   "metadata": {},
   "outputs": [
    {
     "name": "stdout",
     "output_type": "stream",
     "text": [
      "50.26548245743669\n",
      "25.132741228718345\n"
     ]
    }
   ],
   "source": [
    "# Area and Circumference of circle with module import\n",
    "\n",
    "#Import module math for functions and constants\n",
    "import math\n",
    "\n",
    "#Area of the circle \n",
    "r = 4\n",
    "a = math.pi * (r**2)  #Use pi constant defined in math module\n",
    "print(a)\n",
    "\n",
    "#Circumference of the circle\n",
    "c = 2 * math.pi * r   #Use pi constant defined in math module\n",
    "print(c)"
   ]
  },
  {
   "cell_type": "code",
   "execution_count": 10,
   "metadata": {},
   "outputs": [],
   "source": [
    "#Selective import of constant pi from math module\n",
    "\n",
    "from math import pi"
   ]
  },
  {
   "cell_type": "code",
   "execution_count": 11,
   "metadata": {},
   "outputs": [
    {
     "name": "stdout",
     "output_type": "stream",
     "text": [
      "80508.54773599443\n"
     ]
    }
   ],
   "source": [
    "#Calculating distance travelled by moon\n",
    "\n",
    "#Importing function radians for converting degrees to radians\n",
    "from math import radians\n",
    "\n",
    "#Approximate distance between center of earth and moon in kms\n",
    "r = 384400\n",
    "\n",
    "#Distance travelled by moon if it travels 12 degrees \n",
    "dist = r * radians(12)\n",
    "\n",
    "#Print the distance\n",
    "print(dist)"
   ]
  },
  {
   "cell_type": "code",
   "execution_count": 12,
   "metadata": {},
   "outputs": [
    {
     "name": "stdout",
     "output_type": "stream",
     "text": [
      "[1, 2, 3, 4, 1, 2, 3, 4]\n"
     ]
    }
   ],
   "source": [
    "# List cannot be manipulated directly in the way we want it\n",
    "l = [1,2,3,4]\n",
    "l = l * 2\n",
    "print(l)"
   ]
  },
  {
   "cell_type": "code",
   "execution_count": 13,
   "metadata": {},
   "outputs": [
    {
     "data": {
      "text/plain": [
       "[2, 4, 6, 8]"
      ]
     },
     "execution_count": 13,
     "metadata": {},
     "output_type": "execute_result"
    }
   ],
   "source": [
    "# Manipulating with list is a tedious task\n",
    "l = [1,2,3,4]\n",
    "l = list((i*2 for i in l))\n",
    "l"
   ]
  },
  {
   "cell_type": "code",
   "execution_count": 5,
   "metadata": {},
   "outputs": [
    {
     "name": "stdout",
     "output_type": "stream",
     "text": [
      "This is how a 1D array looks like.\n",
      "Array [1 2 3]\n",
      "Number of dimensions 1\n",
      "Type of array <class 'numpy.ndarray'>\n",
      "Shape of array (3,)\n",
      "Strides used (8,)\n",
      "Data of array <memory at 0x7f352c082948>\n"
     ]
    }
   ],
   "source": [
    "#Arrays\n",
    "\n",
    "#Import Numpy module\n",
    "import numpy as np\n",
    "\n",
    "# 1D Array\n",
    "print(\"This is how a 1D array looks like.\")\n",
    "one = np.array([1,2,3])\n",
    "print('Array {}' .format(one))\n",
    "print('Number of dimensions {}' .format(one.ndim))\n",
    "print('Type of array {}' .format(type(one)))\n",
    "print('Shape of array {}' .format(one.shape))\n",
    "print('Strides used {}' .format(one.strides))\n",
    "print('Data of array {}' .format(one.data))\n"
   ]
  },
  {
   "cell_type": "code",
   "execution_count": 15,
   "metadata": {},
   "outputs": [
    {
     "name": "stdout",
     "output_type": "stream",
     "text": [
      "This is how a 2D array looks like.\n",
      "\n",
      "\n",
      "[[1 2 3]\n",
      " [4 5 6]]\n",
      "\n",
      "\n",
      "2\n",
      "\n",
      "\n",
      "<class 'numpy.ndarray'>\n",
      "\n",
      "\n",
      "(2, 3)\n",
      "\n",
      "\n",
      "(24, 8)\n",
      "\n",
      "\n"
     ]
    }
   ],
   "source": [
    "# 2D Array\n",
    "print(\"This is how a 2D array looks like.\")\n",
    "print(\"\\n\")\n",
    "two = np.array([[1,2,3],[4,5,6]])\n",
    "print(two)\n",
    "print(\"\\n\")\n",
    "print(two.ndim)\n",
    "print(\"\\n\")\n",
    "print(type(two))\n",
    "print(\"\\n\")\n",
    "print(two.shape)\n",
    "print(\"\\n\")\n",
    "print(two.strides)\n",
    "print(\"\\n\")"
   ]
  },
  {
   "cell_type": "code",
   "execution_count": 16,
   "metadata": {},
   "outputs": [
    {
     "name": "stdout",
     "output_type": "stream",
     "text": [
      "This is how a 3D array looks like.\n",
      "\n",
      "\n",
      "[[[1 2 3]\n",
      "  [4 5 6]\n",
      "  [7 8 9]]]\n",
      "\n",
      "\n",
      "3\n",
      "\n",
      "\n",
      "<class 'numpy.ndarray'>\n",
      "\n",
      "\n",
      "(1, 3, 3)\n",
      "\n",
      "\n"
     ]
    }
   ],
   "source": [
    "# 3D Array\n",
    "print(\"This is how a 3D array looks like.\")\n",
    "print(\"\\n\")\n",
    "three = np.array([[[1,2,3],[4,5,6],[7,8,9]]])\n",
    "print(three)\n",
    "print(\"\\n\")\n",
    "print(three.ndim)\n",
    "print(\"\\n\")\n",
    "print(type(three))\n",
    "print(\"\\n\")\n",
    "print(three.shape)\n",
    "print(\"\\n\")"
   ]
  },
  {
   "cell_type": "code",
   "execution_count": 17,
   "metadata": {},
   "outputs": [
    {
     "name": "stdout",
     "output_type": "stream",
     "text": [
      "[61 65 63 69 70 73 68 64 63 62]\n",
      "<class 'numpy.ndarray'>\n",
      "1\n",
      "\n",
      "\n",
      "[154.94 165.1  160.02 175.26 177.8  185.42 172.72 162.56 160.02 157.48]\n"
     ]
    }
   ],
   "source": [
    "#Creating array from a list\n",
    "\n",
    "#Consider the list of heights of baseball players\n",
    "height_inches = [61,65,63,69,70,73,68,64,63,62]\n",
    "\n",
    "#Converting this list into numpy array\n",
    "height_np_inches = np.array(height_inches)\n",
    "print(height_np_inches)\n",
    "print(type(height_np_inches))\n",
    "print(height_np_inches.ndim)\n",
    "print(\"\\n\")\n",
    "\n",
    "#Converting this array of height to cm\n",
    "height_np_cm = height_np_inches * 2.54\n",
    "print(height_np_cm)"
   ]
  },
  {
   "cell_type": "code",
   "execution_count": 18,
   "metadata": {},
   "outputs": [
    {
     "name": "stdout",
     "output_type": "stream",
     "text": [
      "[45.   90.   72.   81.   63.   69.75 74.25 77.4  81.   90.  ]\n",
      "\n",
      "\n",
      "[1.5494 1.651  1.6002 1.7526 1.778  1.8542 1.7272 1.6256 1.6002 1.5748]\n",
      "\n",
      "\n",
      "[18.74499852 33.01781751 28.11797007 26.37056314 19.92861129 20.28761798\n",
      " 24.889215   29.28960936 31.63271633 36.29039516]\n",
      "\n",
      "\n"
     ]
    }
   ],
   "source": [
    "#Weight of players in pounds\n",
    "\n",
    "weight_pounds = [100,200,160,180,140,155,165,172,180,200]\n",
    "\n",
    "#convert into numpy array\n",
    "weight_np_pounds = np.array(weight_pounds)\n",
    "weight_np_kgs = weight_np_pounds * 0.45\n",
    "print(weight_np_kgs)\n",
    "print(\"\\n\")\n",
    "\n",
    "height_np_m = height_np_cm / 100\n",
    "print(height_np_m)\n",
    "print(\"\\n\")\n",
    "\n",
    "#BMI\n",
    "bmi = weight_np_kgs / (height_np_m ** 2)\n",
    "print(bmi)\n",
    "print(\"\\n\")"
   ]
  },
  {
   "cell_type": "code",
   "execution_count": 19,
   "metadata": {},
   "outputs": [
    {
     "data": {
      "text/plain": [
       "9"
      ]
     },
     "execution_count": 19,
     "metadata": {},
     "output_type": "execute_result"
    }
   ],
   "source": [
    "#Subsetting a list\n",
    "x = [4 , 9 , 6, 3, 1]; x[1]"
   ]
  },
  {
   "cell_type": "code",
   "execution_count": 20,
   "metadata": {},
   "outputs": [
    {
     "data": {
      "text/plain": [
       "9"
      ]
     },
     "execution_count": 20,
     "metadata": {},
     "output_type": "execute_result"
    }
   ],
   "source": [
    "#Subsetting arrays\n",
    "y = np.array(x); y[1]"
   ]
  },
  {
   "cell_type": "code",
   "execution_count": 21,
   "metadata": {},
   "outputs": [
    {
     "data": {
      "text/plain": [
       "array([9, 6])"
      ]
     },
     "execution_count": 21,
     "metadata": {},
     "output_type": "execute_result"
    }
   ],
   "source": [
    "#Boolean method for subsetting\n",
    "high = y > 5 ;y[high]"
   ]
  },
  {
   "cell_type": "code",
   "execution_count": 22,
   "metadata": {},
   "outputs": [
    {
     "name": "stdout",
     "output_type": "stream",
     "text": [
      "[18.74499852 19.92861129 20.28761798]\n"
     ]
    }
   ],
   "source": [
    "#Finding out lighter players in our players dataset\n",
    "light = bmi < 21\n",
    "print(bmi[light])"
   ]
  },
  {
   "cell_type": "code",
   "execution_count": 23,
   "metadata": {},
   "outputs": [
    {
     "name": "stdout",
     "output_type": "stream",
     "text": [
      "[72.   81.   63.   69.75]\n"
     ]
    }
   ],
   "source": [
    "#Slicing the array\n",
    "print(weight_np_kgs[2:6])"
   ]
  },
  {
   "cell_type": "code",
   "execution_count": 24,
   "metadata": {},
   "outputs": [
    {
     "name": "stdout",
     "output_type": "stream",
     "text": [
      "[[45.     90.     72.     81.     63.     69.75   74.25   77.4    81.\n",
      "  90.    ]\n",
      " [ 1.5494  1.651   1.6002  1.7526  1.778   1.8542  1.7272  1.6256  1.6002\n",
      "   1.5748]]\n",
      "2\n",
      "(2, 10)\n"
     ]
    }
   ],
   "source": [
    "#Making a 2D array from lists\n",
    "baseball_total = [weight_np_kgs, height_np_m]\n",
    "baseball_total_np = np.array(baseball_total)\n",
    "print(baseball_total_np)\n",
    "print(baseball_total_np.ndim)\n",
    "print(baseball_total_np.shape)"
   ]
  },
  {
   "cell_type": "code",
   "execution_count": 25,
   "metadata": {},
   "outputs": [
    {
     "name": "stdout",
     "output_type": "stream",
     "text": [
      "72.0 1.6002\n"
     ]
    }
   ],
   "source": [
    "#Looking at the players data at index 2\n",
    "print(baseball_total_np[0][2],baseball_total_np[1][2])"
   ]
  },
  {
   "cell_type": "code",
   "execution_count": 26,
   "metadata": {},
   "outputs": [
    {
     "data": {
      "text/plain": [
       "array([72.    ,  1.6002])"
      ]
     },
     "execution_count": 26,
     "metadata": {},
     "output_type": "execute_result"
    }
   ],
   "source": [
    "baseball_total_np[:,2]"
   ]
  },
  {
   "cell_type": "code",
   "execution_count": 27,
   "metadata": {},
   "outputs": [
    {
     "name": "stdout",
     "output_type": "stream",
     "text": [
      "[1.5494 1.651  1.6002 1.7526 1.778  1.8542 1.7272 1.6256 1.6002 1.5748]\n"
     ]
    }
   ],
   "source": [
    "#Looking at all the players heights\n",
    "print(baseball_total_np[1])"
   ]
  },
  {
   "cell_type": "code",
   "execution_count": 28,
   "metadata": {},
   "outputs": [
    {
     "name": "stdout",
     "output_type": "stream",
     "text": [
      "[1.5494 1.651  1.6002 1.7526 1.778  1.8542 1.7272 1.6256 1.6002 1.5748]\n"
     ]
    }
   ],
   "source": [
    "#Looking at all the players heights by another approach\n",
    "print(baseball_total_np[1,:])"
   ]
  },
  {
   "cell_type": "code",
   "execution_count": 29,
   "metadata": {},
   "outputs": [
    {
     "data": {
      "text/plain": [
       "array([[11, 12],\n",
       "       [13, 14],\n",
       "       [15, 16]])"
      ]
     },
     "execution_count": 29,
     "metadata": {},
     "output_type": "execute_result"
    }
   ],
   "source": [
    "#Arithmatics with arrays\n",
    "np_mat = np.array([[1, 2], [3, 4], [5, 6]])\n",
    "np_mat + 10"
   ]
  },
  {
   "cell_type": "code",
   "execution_count": 30,
   "metadata": {},
   "outputs": [
    {
     "name": "stdout",
     "output_type": "stream",
     "text": [
      "[[2 3 4]]\n",
      "\n",
      "\n",
      "(1, 3)\n",
      "\n",
      "\n",
      "[[2]\n",
      " [3]\n",
      " [4]]\n",
      "\n",
      "\n",
      "(3, 1)\n"
     ]
    }
   ],
   "source": [
    "#Transpose\n",
    "import numpy as np\n",
    "a = np.array([[2,3,4]])\n",
    "print(a)\n",
    "print(\"\\n\")\n",
    "print(a.shape)\n",
    "print(\"\\n\")\n",
    "a_t = a.T\n",
    "print(a_t)\n",
    "print(\"\\n\")\n",
    "print(a_t.shape)"
   ]
  },
  {
   "cell_type": "code",
   "execution_count": 31,
   "metadata": {},
   "outputs": [
    {
     "name": "stdout",
     "output_type": "stream",
     "text": [
      "[[2 3 4]]\n",
      "\n",
      "\n",
      "(1, 3)\n",
      "\n",
      "\n",
      "[[2]\n",
      " [3]\n",
      " [4]]\n",
      "\n",
      "\n",
      "(3, 1)\n"
     ]
    }
   ],
   "source": [
    "#Swap axes\n",
    "import numpy as np\n",
    "a = np.array([[2,3,4]])\n",
    "print(a)\n",
    "print(\"\\n\")\n",
    "print(a.shape)\n",
    "print(\"\\n\")\n",
    "a = np.swapaxes(a,0,1)\n",
    "print(a)\n",
    "print(\"\\n\")\n",
    "print(a.shape)"
   ]
  },
  {
   "cell_type": "code",
   "execution_count": 56,
   "metadata": {},
   "outputs": [
    {
     "data": {
      "text/plain": [
       "array([[[ 1, 10],\n",
       "        [ 4, 13],\n",
       "        [ 7, 16]],\n",
       "\n",
       "       [[ 2, 11],\n",
       "        [ 5, 14],\n",
       "        [ 8, 17]],\n",
       "\n",
       "       [[ 3, 12],\n",
       "        [ 6, 15],\n",
       "        [ 9, 18]]])"
      ]
     },
     "execution_count": 56,
     "metadata": {},
     "output_type": "execute_result"
    }
   ],
   "source": [
    "#3D array swap axes example\n",
    "arr = np.array([[[1,2,3],[4,5,6],[7,8,9]],[[10,11,12],[13,14,15],[16,17,18]]])\n",
    "arr_new = np.swapaxes(arr,0,2)\n",
    "arr_new"
   ]
  },
  {
   "cell_type": "code",
   "execution_count": null,
   "metadata": {},
   "outputs": [],
   "source": []
  },
  {
   "cell_type": "code",
   "execution_count": 33,
   "metadata": {},
   "outputs": [
    {
     "name": "stdout",
     "output_type": "stream",
     "text": [
      "[0 1 2 3 4 5 6 7 8 9]\n",
      "\n",
      "\n",
      "[0.         1.         1.41421356 1.73205081 2.         2.23606798\n",
      " 2.44948974 2.64575131 2.82842712 3.        ]\n",
      "\n",
      "\n",
      "[1.00000000e+00 2.71828183e+00 7.38905610e+00 2.00855369e+01\n",
      " 5.45981500e+01 1.48413159e+02 4.03428793e+02 1.09663316e+03\n",
      " 2.98095799e+03 8.10308393e+03]\n",
      "\n",
      "\n",
      "[-0.64782318  0.41560283  1.15615657 -0.43821334  0.35782987 -0.12219129\n",
      " -0.12248113 -0.05842513]\n",
      "\n",
      "\n",
      "[-1.05449696 -1.08948091 -0.10345807  0.28182279 -0.06362735  1.83104406\n",
      " -1.90092951  0.96312431]\n",
      "\n",
      "\n",
      "[-0.64782318  0.41560283  1.15615657  0.28182279  0.35782987  1.83104406\n",
      " -0.12248113  0.96312431]\n"
     ]
    }
   ],
   "source": [
    "#Universal functions\n",
    "arr = np.arange(10)\n",
    "print(arr)\n",
    "print(\"\\n\")\n",
    "#Unary functions\n",
    "print(np.sqrt(arr)) #Square root\n",
    "print(\"\\n\")\n",
    "print(np.exp(arr)) # Exponential\n",
    "print(\"\\n\")\n",
    "x = np.random.randn(8)\n",
    "print(x)\n",
    "print(\"\\n\")\n",
    "y = np.random.randn(8)\n",
    "print(y)\n",
    "print(\"\\n\")\n",
    "#Binary functions\n",
    "print(np.maximum(x, y))"
   ]
  },
  {
   "cell_type": "code",
   "execution_count": 34,
   "metadata": {},
   "outputs": [
    {
     "name": "stdout",
     "output_type": "stream",
     "text": [
      "[[45.      1.5494]\n",
      " [90.      1.651 ]\n",
      " [72.      1.6002]\n",
      " [81.      1.7526]\n",
      " [63.      1.778 ]\n",
      " [69.75    1.8542]\n",
      " [74.25    1.7272]\n",
      " [77.4     1.6256]\n",
      " [81.      1.6002]\n",
      " [90.      1.5748]]\n",
      "(10, 2)\n"
     ]
    }
   ],
   "source": [
    "#Mathematical and statistical methods\n",
    "baseball_np = baseball_total_np.T\n",
    "print(baseball_np)\n",
    "print(baseball_np.shape)\n",
    "np_height = baseball_np[:,1]\n",
    "np_weight = baseball_np[:,0]"
   ]
  },
  {
   "cell_type": "code",
   "execution_count": 35,
   "metadata": {},
   "outputs": [
    {
     "name": "stdout",
     "output_type": "stream",
     "text": [
      "1.6713200000000001\n"
     ]
    }
   ],
   "source": [
    "#Printing mean of the height \n",
    "print(np.mean(np_height))"
   ]
  },
  {
   "cell_type": "code",
   "execution_count": 36,
   "metadata": {},
   "outputs": [
    {
     "name": "stdout",
     "output_type": "stream",
     "text": [
      "1.6383\n"
     ]
    }
   ],
   "source": [
    "#Printing mean of the height \n",
    "print(np.median(np_height))"
   ]
  },
  {
   "cell_type": "code",
   "execution_count": 37,
   "metadata": {},
   "outputs": [
    {
     "name": "stdout",
     "output_type": "stream",
     "text": [
      "743.4\n"
     ]
    }
   ],
   "source": [
    "#Printing sum of weights of all players\n",
    "print(np.sum(np_weight))"
   ]
  },
  {
   "cell_type": "code",
   "execution_count": 38,
   "metadata": {},
   "outputs": [
    {
     "name": "stdout",
     "output_type": "stream",
     "text": [
      "[ 45.   135.   207.   288.   351.   420.75 495.   572.4  653.4  743.4 ]\n"
     ]
    }
   ],
   "source": [
    "#Printing cumulative sum of weights of all players\n",
    "print(np.cumsum(np_weight))"
   ]
  },
  {
   "cell_type": "code",
   "execution_count": 39,
   "metadata": {},
   "outputs": [
    {
     "name": "stdout",
     "output_type": "stream",
     "text": [
      "[4.50000000e+01 4.05000000e+03 2.91600000e+05 2.36196000e+07\n",
      " 1.48803480e+09 1.03790427e+11 7.70643923e+12 5.96478396e+14\n",
      " 4.83147501e+16 4.34832751e+18]\n"
     ]
    }
   ],
   "source": [
    "#Printing cumulative product of weights of all players\n",
    "print(np.cumprod(np_weight))"
   ]
  },
  {
   "cell_type": "code",
   "execution_count": 40,
   "metadata": {},
   "outputs": [
    {
     "name": "stdout",
     "output_type": "stream",
     "text": [
      "12.667000434199092\n"
     ]
    }
   ],
   "source": [
    "#Printing standard deviation in weight of players\n",
    "print(np.std(np_weight))"
   ]
  },
  {
   "cell_type": "code",
   "execution_count": 41,
   "metadata": {},
   "outputs": [
    {
     "name": "stdout",
     "output_type": "stream",
     "text": [
      "[[ 1.         -0.01755982]\n",
      " [-0.01755982  1.        ]]\n"
     ]
    }
   ],
   "source": [
    "#Printing the correlation between the height and weight of the players\n",
    "print(np.corrcoef(baseball_np[:,0],baseball_np[:,1]))"
   ]
  },
  {
   "cell_type": "code",
   "execution_count": 42,
   "metadata": {},
   "outputs": [
    {
     "name": "stdout",
     "output_type": "stream",
     "text": [
      "[0 1 3 6]\n"
     ]
    }
   ],
   "source": [
    "#Simple explanation for cummulative sum\n",
    "a = np.array([0,1,2,3])\n",
    "print(a.cumsum())"
   ]
  },
  {
   "cell_type": "code",
   "execution_count": 43,
   "metadata": {
    "scrolled": true
   },
   "outputs": [
    {
     "name": "stdout",
     "output_type": "stream",
     "text": [
      "[ 1.11235589  2.25862663  0.711753   -0.69779055 -0.66100011 -0.38437133\n",
      " -0.01236225 -0.83243437 -0.86527332 -1.45911066 -1.26651814 -0.43823386\n",
      " -0.33437008  0.06419967  0.07734072 -0.94354065  0.54129518  0.60235917\n",
      "  0.33119981 -0.08376591  0.31573422 -0.74751779  1.24977442  0.73689711\n",
      " -1.32128406 -1.14678521 -0.10608125  0.25122124 -0.06387872  0.16622048\n",
      " -0.85139316  1.14077612 -0.58892438 -0.69087905 -0.17968691  0.0025726\n",
      " -0.78716147  0.81645143 -1.84204807  0.32908244 -0.79329105 -0.03969608\n",
      " -0.26562458  0.31326564  0.56846121  0.46801302 -0.15024467 -0.00371042\n",
      " -0.0283293  -0.78613042  0.80612494  1.39079163  0.04341622 -1.86053726\n",
      " -0.73913897  1.06600985 -0.49094096 -1.51198623 -0.72032912  0.3264195\n",
      "  1.93548586 -0.73314177  0.55126438 -0.40078579  0.54402406 -2.17976308\n",
      "  0.6542304   1.22310407 -0.28464332  0.23846961  0.11626128 -0.25775894\n",
      "  0.13067511  1.12024188 -1.47838105 -0.55820841 -0.49196908  1.05579556\n",
      " -0.03060978 -0.24883045 -0.31805666 -0.73785381  1.09806014  1.36619142\n",
      "  0.02850191  0.11489763  0.51916787  0.55654422  1.26147769 -0.67967121\n",
      " -1.13505552  0.80030813  1.14749359 -0.22177085 -0.56486958 -0.29385666\n",
      "  1.50583929  2.13438337 -0.23475304 -1.3449346 ]\n",
      "46\n",
      "\n",
      "\n",
      "True\n",
      "\n",
      "\n",
      "False\n"
     ]
    }
   ],
   "source": [
    "#Methods for boolean arrays\n",
    "arr = np.random.randn(100)\n",
    "print(arr)\n",
    "print((arr > 0).sum())\n",
    "print(\"\\n\")\n",
    "\n",
    "#Any and all\n",
    "bools = np.array([False, False, True, False])\n",
    "print(bools.any())\n",
    "print(\"\\n\")\n",
    "print(bools.all())"
   ]
  },
  {
   "cell_type": "code",
   "execution_count": 44,
   "metadata": {},
   "outputs": [
    {
     "name": "stdout",
     "output_type": "stream",
     "text": [
      "[-0.00421903  0.9391969  -0.40910337  0.58556438  0.75634258 -0.54759016]\n",
      "\n",
      "\n",
      "[-0.54759016 -0.40910337 -0.00421903  0.58556438  0.75634258  0.9391969 ]\n"
     ]
    }
   ],
   "source": [
    "#Sort\n",
    "arr = np.random.randn(6)\n",
    "print(arr)\n",
    "print(\"\\n\")\n",
    "# print(np.sort(arr))\n",
    "arr_sorted = np.sort(arr)\n",
    "print(arr_sorted)"
   ]
  },
  {
   "cell_type": "code",
   "execution_count": 45,
   "metadata": {},
   "outputs": [
    {
     "data": {
      "text/plain": [
       "array(['Bob', 'Joe', 'Will'], dtype='<U4')"
      ]
     },
     "execution_count": 45,
     "metadata": {},
     "output_type": "execute_result"
    }
   ],
   "source": [
    "#Unique Function\n",
    "names = np.array(['Bob', 'Joe', 'Will', 'Bob', 'Will', 'Joe', 'Joe'])\n",
    "np.unique(names)"
   ]
  },
  {
   "cell_type": "code",
   "execution_count": 46,
   "metadata": {},
   "outputs": [
    {
     "name": "stdout",
     "output_type": "stream",
     "text": [
      "[0 1 2 3 4 5 6 7 8 9]\n",
      "\n",
      "\n"
     ]
    },
    {
     "data": {
      "text/plain": [
       "array([0, 1, 2, 3, 4, 5, 6, 7, 8, 9])"
      ]
     },
     "execution_count": 46,
     "metadata": {},
     "output_type": "execute_result"
    }
   ],
   "source": [
    "#File Input and Output with Arrays\n",
    "arr = np.arange(10)\n",
    "print(arr)\n",
    "print(\"\\n\")\n",
    "\n",
    "#Saving the array into file\n",
    "np.save('DA.npy', arr)\n",
    "\n",
    "#Loading the file \n",
    "np.load('DA.npy')"
   ]
  },
  {
   "cell_type": "code",
   "execution_count": 47,
   "metadata": {},
   "outputs": [
    {
     "name": "stdout",
     "output_type": "stream",
     "text": [
      "Before changing the ravelled array looking at original array\n",
      "[[ 0  1  2]\n",
      " [ 3  4  5]\n",
      " [ 6  7  8]\n",
      " [ 9 10 11]\n",
      " [12 13 14]]\n",
      "\n",
      "\n",
      "[ 0  1  2  3  4  5  6  7  8  9 10 11 12 13 14]\n",
      "\n",
      "\n",
      "[1000    1    2    3    4    5    6    7    8    9   10   11   12   13\n",
      "   14]\n",
      "\n",
      "\n",
      "After changing the ravelled array looking at original array\n",
      "[[1000    1    2]\n",
      " [   3    4    5]\n",
      " [   6    7    8]\n",
      " [   9   10   11]\n",
      " [  12   13   14]]\n"
     ]
    }
   ],
   "source": [
    "#Ravel function for flattening of data\n",
    "arr = np.arange(15).reshape((5, 3))\n",
    "print(\"Before changing the ravelled array looking at original array\")\n",
    "print(arr)\n",
    "print(\"\\n\")\n",
    "rav1 = arr.ravel()\n",
    "print(rav1)\n",
    "print(\"\\n\")\n",
    "rav1[0] = 1000\n",
    "print(rav1)\n",
    "print(\"\\n\")\n",
    "print(\"After changing the ravelled array looking at original array\")\n",
    "print(arr)"
   ]
  },
  {
   "cell_type": "code",
   "execution_count": 48,
   "metadata": {},
   "outputs": [
    {
     "name": "stdout",
     "output_type": "stream",
     "text": [
      "Before changing the flattened array looking at original array\n",
      "[[ 0  1  2]\n",
      " [ 3  4  5]\n",
      " [ 6  7  8]\n",
      " [ 9 10 11]\n",
      " [12 13 14]]\n",
      "\n",
      "\n",
      "[ 0  1  2  3  4  5  6  7  8  9 10 11 12 13 14]\n",
      "\n",
      "\n",
      "[1000    1    2    3    4    5    6    7    8    9   10   11   12   13\n",
      "   14]\n",
      "\n",
      "\n",
      "After changing the flattened array looking at original array\n",
      "[[ 0  1  2]\n",
      " [ 3  4  5]\n",
      " [ 6  7  8]\n",
      " [ 9 10 11]\n",
      " [12 13 14]]\n",
      "\n",
      "\n"
     ]
    }
   ],
   "source": [
    "#Flatten function for flattening of data\n",
    "arr = np.arange(15).reshape((5, 3))\n",
    "print(\"Before changing the flattened array looking at original array\")\n",
    "print(arr)\n",
    "print(\"\\n\")\n",
    "flat1 = arr.flatten()\n",
    "print(flat1)\n",
    "print(\"\\n\")\n",
    "flat1[0] = 1000\n",
    "print(flat1)\n",
    "print(\"\\n\")\n",
    "print(\"After changing the flattened array looking at original array\")\n",
    "print(arr)\n",
    "print(\"\\n\")"
   ]
  },
  {
   "cell_type": "code",
   "execution_count": 49,
   "metadata": {},
   "outputs": [
    {
     "name": "stdout",
     "output_type": "stream",
     "text": [
      "[[1 2 3]\n",
      " [4 5 6]]\n",
      "\n",
      "\n",
      "[[ 7  8  9]\n",
      " [10 11 12]]\n",
      "\n",
      "\n",
      "[[ 1  2  3]\n",
      " [ 4  5  6]\n",
      " [ 7  8  9]\n",
      " [10 11 12]]\n",
      "\n",
      "\n",
      "[[ 1  2  3  7  8  9]\n",
      " [ 4  5  6 10 11 12]]\n",
      "\n",
      "\n",
      "[[ 1  2  3]\n",
      " [ 4  5  6]\n",
      " [ 7  8  9]\n",
      " [10 11 12]]\n",
      "\n",
      "\n",
      "[[ 1  2  3  7  8  9]\n",
      " [ 4  5  6 10 11 12]]\n",
      "\n",
      "\n"
     ]
    }
   ],
   "source": [
    "#Concatenation\n",
    "\n",
    "arr1 = np.array([[1, 2, 3], [4, 5, 6]])\n",
    "print(arr1)\n",
    "print(\"\\n\")\n",
    "arr2 = np.array([[7, 8, 9], [10, 11, 12]])\n",
    "print(arr2)\n",
    "print(\"\\n\")\n",
    "print(np.concatenate([arr1, arr2], axis=0))\n",
    "print(\"\\n\")\n",
    "print(np.concatenate([arr1, arr2], axis=1))\n",
    "print(\"\\n\")\n",
    "print(np.vstack((arr1, arr2)))\n",
    "print(\"\\n\")\n",
    "print(np.hstack((arr1, arr2)))\n",
    "print(\"\\n\")"
   ]
  },
  {
   "cell_type": "code",
   "execution_count": 50,
   "metadata": {},
   "outputs": [
    {
     "name": "stdout",
     "output_type": "stream",
     "text": [
      "Original array.\n",
      "[[-0.21979475 -1.35494055]\n",
      " [-0.01302548  0.47987191]\n",
      " [-2.45207718 -0.12218329]\n",
      " [ 0.10150393 -0.08771486]\n",
      " [ 0.32945504  1.25773952]]\n",
      "\n",
      "\n",
      "The first split\n",
      "[[-0.21979475 -1.35494055]]\n",
      "\n",
      "\n",
      "The second split\n",
      "[[-0.01302548  0.47987191]]\n",
      "\n",
      "\n",
      "The third split\n",
      "[[-2.45207718 -0.12218329]\n",
      " [ 0.10150393 -0.08771486]\n",
      " [ 0.32945504  1.25773952]]\n",
      "\n",
      "\n"
     ]
    }
   ],
   "source": [
    "#Split\n",
    "arr = np.random.randn(5, 2)\n",
    "print(\"Original array.\")\n",
    "print(arr)\n",
    "print(\"\\n\")\n",
    "first, second, third = np.split(arr, [1, 2])\n",
    "print(\"The first split\")\n",
    "print(first)\n",
    "print(\"\\n\")\n",
    "print(\"The second split\")\n",
    "print(second)\n",
    "print(\"\\n\")\n",
    "print(\"The third split\")\n",
    "print(third)\n",
    "print(\"\\n\")"
   ]
  },
  {
   "cell_type": "code",
   "execution_count": 51,
   "metadata": {},
   "outputs": [
    {
     "name": "stdout",
     "output_type": "stream",
     "text": [
      "[0 1 2]\n",
      "\n",
      "\n",
      "[0 0 0 1 1 1 2 2 2]\n",
      "\n",
      "\n",
      "[0 0 1 1 1 2 2 2 2]\n",
      "\n",
      "\n",
      "[[ 1.82421551  1.72811428]\n",
      " [-2.24804544  0.77959267]]\n",
      "\n",
      "\n",
      "[[ 1.82421551  1.82421551  1.72811428  1.72811428]\n",
      " [-2.24804544 -2.24804544  0.77959267  0.77959267]]\n"
     ]
    }
   ],
   "source": [
    "#Repeat\n",
    "arr = np.arange(3)\n",
    "print(arr)\n",
    "print(\"\\n\")\n",
    "print(arr.repeat(3))\n",
    "\n",
    "#We can pass list as argument for repeat\n",
    "print(\"\\n\")\n",
    "print(arr.repeat([2, 3, 4]))\n",
    "print(\"\\n\")\n",
    "\n",
    "#We can specify axes to do the repeat\n",
    "arr_2 = np.random.randn(2, 2)\n",
    "print(arr_2)\n",
    "print(\"\\n\")\n",
    "print(arr_2.repeat(2, axis=1))"
   ]
  },
  {
   "cell_type": "code",
   "execution_count": 52,
   "metadata": {},
   "outputs": [
    {
     "name": "stdout",
     "output_type": "stream",
     "text": [
      "[[ 1.82421551  1.72811428]\n",
      " [-2.24804544  0.77959267]]\n",
      "[[ 1.82421551  1.72811428  1.82421551  1.72811428]\n",
      " [-2.24804544  0.77959267 -2.24804544  0.77959267]]\n",
      "\n",
      "\n",
      "[[ 1.82421551  1.72811428]\n",
      " [-2.24804544  0.77959267]\n",
      " [ 1.82421551  1.72811428]\n",
      " [-2.24804544  0.77959267]]\n",
      "\n",
      "\n",
      "[[ 1.82421551  1.72811428  1.82421551  1.72811428]\n",
      " [-2.24804544  0.77959267 -2.24804544  0.77959267]\n",
      " [ 1.82421551  1.72811428  1.82421551  1.72811428]\n",
      " [-2.24804544  0.77959267 -2.24804544  0.77959267]\n",
      " [ 1.82421551  1.72811428  1.82421551  1.72811428]\n",
      " [-2.24804544  0.77959267 -2.24804544  0.77959267]]\n"
     ]
    }
   ],
   "source": [
    "#Tile\n",
    "print(arr_2)\n",
    "print(np.tile(arr_2, 2))\n",
    "print(\"\\n\")\n",
    "print(np.tile(arr_2, (2, 1)))\n",
    "print(\"\\n\")\n",
    "print(np.tile(arr_2, (3, 2)))"
   ]
  },
  {
   "cell_type": "code",
   "execution_count": 53,
   "metadata": {},
   "outputs": [
    {
     "name": "stdout",
     "output_type": "stream",
     "text": [
      "[0 2 4 6 8 10 12 14]\n"
     ]
    }
   ],
   "source": [
    "#Writing New ufuncs in Python\n",
    "def add_elements(x, y):\n",
    "    return x + y\n",
    "\n",
    "add_them = np.frompyfunc(add_elements, 2, 1) \n",
    "\n",
    "print(add_them(np.arange(8), np.arange(8)))\n"
   ]
  },
  {
   "cell_type": "code",
   "execution_count": 54,
   "metadata": {},
   "outputs": [
    {
     "name": "stdout",
     "output_type": "stream",
     "text": [
      "[1, 2, 3, 4, 5, 1, 2, 3, 4, 5]\n",
      "[2, 4, 6, 8, 10]\n"
     ]
    }
   ],
   "source": [
    "import numpy as np\n",
    "\n",
    "l = [1,2,3,4,5]\n",
    "\n",
    "print(l*2)\n",
    "\n",
    "d = [w*2 for w in l]\n",
    "print(d)"
   ]
  },
  {
   "cell_type": "code",
   "execution_count": 55,
   "metadata": {},
   "outputs": [
    {
     "name": "stdout",
     "output_type": "stream",
     "text": [
      "[[0 1 2 3 4]\n",
      " [5 6 7 8 9]]\n",
      "\n",
      "\n",
      "(40, 8)\n"
     ]
    }
   ],
   "source": [
    "a1 = np.arange(10).reshape(2,5)\n",
    "print(a1)\n",
    "print(\"\\n\")\n",
    "print(a1.strides)"
   ]
  },
  {
   "cell_type": "code",
   "execution_count": 19,
   "metadata": {},
   "outputs": [
    {
     "name": "stdout",
     "output_type": "stream",
     "text": [
      "[10.   11.25 12.5  13.75 15.  ]\n"
     ]
    }
   ],
   "source": [
    "import numpy as np\n",
    "a=np.linspace(10,15,num=5)\n",
    "print(a)"
   ]
  }
 ],
 "metadata": {
  "kernelspec": {
   "display_name": "Python 3",
   "language": "python",
   "name": "python3"
  },
  "language_info": {
   "codemirror_mode": {
    "name": "ipython",
    "version": 3
   },
   "file_extension": ".py",
   "mimetype": "text/x-python",
   "name": "python",
   "nbconvert_exporter": "python",
   "pygments_lexer": "ipython3",
   "version": "3.6.9"
  }
 },
 "nbformat": 4,
 "nbformat_minor": 4
}
